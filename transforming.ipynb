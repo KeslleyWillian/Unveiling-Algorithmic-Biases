{
  "nbformat": 4,
  "nbformat_minor": 0,
  "metadata": {
    "colab": {
      "provenance": []
    },
    "kernelspec": {
      "name": "python3",
      "display_name": "Python 3"
    },
    "language_info": {
      "name": "python"
    }
  },
  "cells": [
    {
      "cell_type": "markdown",
      "source": [
        "Código abaixo funcionando bem para destacar as inconsistências e correções"
      ],
      "metadata": {
        "id": "RaXrNjaHAuEN"
      }
    },
    {
      "cell_type": "code",
      "source": [
        "from bs4 import BeautifulSoup\n",
        "\n",
        "# Leitura do arquivo HTML\n",
        "with open(\"temp11_redacoes_completas.html\", \"r\", encoding=\"utf-8\") as f:\n",
        "    soup = BeautifulSoup(f, \"html.parser\")\n",
        "\n",
        "# Função para aplicar destaque padronizado\n",
        "def destacar_erros(span):\n",
        "    # Caso 1: style com cor\n",
        "    style = span.get(\"style\", \"\")\n",
        "    if \"color:red\" in style:\n",
        "        span[\"style\"] = \"background-color: #fdd; color: red; font-weight: bold;\"\n",
        "    elif \"color:#00b050\" in style.lower():\n",
        "        span[\"style\"] = \"background-color: #dfd; color: green; font-weight: bold;\"\n",
        "\n",
        "    # Caso 2: classes\n",
        "    if span.get(\"class\") and \"erro\" in span[\"class\"]:\n",
        "        span[\"style\"] = \"background-color: #fdd; color: red; font-weight: bold;\"\n",
        "    elif span.get(\"class\") and \"certo\" in span[\"class\"]:\n",
        "        span[\"style\"] = \"background-color: #dfd; color: green; font-weight: bold;\"\n",
        "\n",
        "# Aplicar formatação a todos os spans\n",
        "for span in soup.find_all(\"span\"):\n",
        "    destacar_erros(span)\n",
        "\n",
        "# Exportar resultado\n",
        "with open(\"redacoes_destacadas.html\", \"w\", encoding=\"utf-8\") as f:\n",
        "    f.write(str(soup))\n"
      ],
      "metadata": {
        "id": "IDFxMy3i_Z7g"
      },
      "execution_count": null,
      "outputs": []
    },
    {
      "cell_type": "code",
      "source": [
        "from bs4 import BeautifulSoup\n",
        "import re\n",
        "\n",
        "ARQ_ORIGEM  = \"redacoes_destacadas.html\"\n",
        "ARQ_DESTINO = \"redacoes_sem_correcao.html\"\n",
        "\n",
        "# --- 1. carregar HTML --------------------------------------------------------\n",
        "with open(ARQ_ORIGEM, \"r\", encoding=\"utf-8\") as f:\n",
        "    soup = BeautifulSoup(f, \"html.parser\")\n",
        "\n",
        "# --- 2. regra de identificação das correções verdes --------------------------\n",
        "verde_hex   = re.compile(r\"#00b050\", re.I)\n",
        "verde_rgb   = re.compile(r\"rgb\\s*\\(\\s*0\\s*,\\s*176\\s*,\\s*80\\s*\\)\", re.I)  # opcional\n",
        "verde_pal   = re.compile(r\"\\bcolor\\s*:\\s*green\", re.I)\n",
        "verde_bg    = re.compile(r\"background-color\\s*:\\s*#dfd\", re.I)           # após highlight\n",
        "\n",
        "def eh_correção(tag):\n",
        "    if tag.name != \"span\":\n",
        "        return False\n",
        "\n",
        "    # a) span class=\"certo\"\n",
        "    classes = tag.get(\"class\", [])\n",
        "    if any(cls.lower() == \"certo\" for cls in classes):\n",
        "        return True\n",
        "\n",
        "    # b) span verde (mesmo que tenha perdido a classe)\n",
        "    style = tag.get(\"style\", \"\")\n",
        "    if verde_hex.search(style) or verde_rgb.search(style) or verde_pal.search(style) or verde_bg.search(style):\n",
        "        return True\n",
        "\n",
        "    return False\n",
        "\n",
        "# --- 3. remover todas as correções ------------------------------------------\n",
        "for span in soup.find_all(eh_correção):\n",
        "    span.decompose()        # remove o elemento e TODO o texto dentro dele\n",
        "\n",
        "# --- 4. salvar resultado -----------------------------------------------------\n",
        "with open(ARQ_DESTINO, \"w\", encoding=\"utf-8\") as f:\n",
        "    f.write(str(soup))\n",
        "\n",
        "print(f\"Arquivo limpo gerado em: {ARQ_DESTINO}\")\n"
      ],
      "metadata": {
        "colab": {
          "base_uri": "https://localhost:8080/"
        },
        "id": "vF_mZmA0BPAd",
        "outputId": "3da68eec-7359-47eb-c816-4e531ee49d5a"
      },
      "execution_count": null,
      "outputs": [
        {
          "output_type": "stream",
          "name": "stdout",
          "text": [
            "Arquivo limpo gerado em: redacoes_sem_correcao.html\n"
          ]
        }
      ]
    }
  ]
}